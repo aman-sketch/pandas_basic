{
 "cells": [
  {
   "cell_type": "markdown",
   "id": "02152321-7b3e-4b47-a8fb-72b043ec43b8",
   "metadata": {},
   "source": [
    "Assignment Pandas Basic"
   ]
  },
  {
   "cell_type": "raw",
   "id": "b3fa3a18-7516-4722-abce-a4cb3aa45fcd",
   "metadata": {},
   "source": [
    "Q1. Create a Pandas Series that contains the following data: 4, 8, 15, 16, 23, and 42. Then, print the series."
   ]
  },
  {
   "cell_type": "code",
   "execution_count": 1,
   "id": "3bec556e-0cfa-4ca9-8415-dfb25dc84bbd",
   "metadata": {},
   "outputs": [],
   "source": [
    "import pandas as pd"
   ]
  },
  {
   "cell_type": "markdown",
   "id": "4f0548b8-443a-4803-a113-e0ad12231a51",
   "metadata": {},
   "source": [
    "a=pd.Series([4,8,15,16,23,42])\n",
    "print(a)\n",
    "print(type(a))"
   ]
  },
  {
   "cell_type": "raw",
   "id": "94a680e6-6b2f-408d-8265-44e365b8f41a",
   "metadata": {},
   "source": [
    "Q2. Create a variable of list type containing 10 elements in it, and apply pandas.Series function on the\n",
    "variable print it."
   ]
  },
  {
   "cell_type": "code",
   "execution_count": 4,
   "id": "9d5a991c-4041-434c-bb95-0f20e79d7cd3",
   "metadata": {},
   "outputs": [
    {
     "name": "stdout",
     "output_type": "stream",
     "text": [
      "0    1\n",
      "1    2\n",
      "2    3\n",
      "3    4\n",
      "4    4\n",
      "5    5\n",
      "6    6\n",
      "7    7\n",
      "8    8\n",
      "9    9\n",
      "dtype: int64\n"
     ]
    }
   ],
   "source": [
    "var =[1,2,3,4,4,5,6,7,8,9]\n",
    "ser=pd.Series(var)\n",
    "print(ser)"
   ]
  },
  {
   "cell_type": "raw",
   "id": "235ee4d4-1a3a-46c1-b05a-79884adb1b0b",
   "metadata": {},
   "source": [
    "Q3. Create a Pandas DataFrame that contains the following data:"
   ]
  },
  {
   "cell_type": "code",
   "execution_count": 6,
   "id": "3edf4680-9bb2-4293-bd9f-8c6361c38203",
   "metadata": {},
   "outputs": [
    {
     "name": "stdout",
     "output_type": "stream",
     "text": [
      "     Name  Age  Gender\n",
      "0   Alice   25  Female\n",
      "1     Bob   30    Male\n",
      "2  Claire   28  Female\n"
     ]
    }
   ],
   "source": [
    "\n",
    "dt={\"Name\":['Alice','Bob','Claire'], \"Age\":[25,30,28],\"Gender\":[\"Female\",\"Male\",\"Female\"]}\n",
    "\n",
    "var=pd.DataFrame(dt)\n",
    "\n",
    "print(var)"
   ]
  },
  {
   "cell_type": "raw",
   "id": "e950f285-28f0-4a83-92b2-99e82cdfab81",
   "metadata": {},
   "source": [
    "Q4. What is ‘DataFrame’ in pandas and how is it different from pandas.series? Explain with an example.\n",
    "Ans: Pandas DataFrame is two-dimensional size-mutable, potentially heterogeneous tabular data structure with labeled axes (rows and columns). A Data frame is a two-dimensional data structure, i.e., data is aligned in a tabular fashion in rows and columns. \n",
    "DataFrame is different from series is  that a DataFrame can have multiple columns, while a Series can only have one. This means that a DataFrame can store more complex and heterogeneous data, while a Series can store more simple and homogeneous data\n",
    "Example :-"
   ]
  },
  {
   "cell_type": "code",
   "execution_count": 16,
   "id": "5754dbc9-2ce5-4ac3-9c85-c7f42a08bd9a",
   "metadata": {},
   "outputs": [
    {
     "name": "stdout",
     "output_type": "stream",
     "text": [
      "0         [1, 2, 3, 4, 5]\n",
      "1    [11, 12, 13, 14, 15]\n",
      "2    [11, 22, 33, 44, 55]\n",
      "dtype: object\n",
      "    0   1   2   3   4\n",
      "0   1   2   3   4   5\n",
      "1  11  12  13  14  15\n",
      "2  11  22  33  44  55\n"
     ]
    }
   ],
   "source": [
    "\n",
    "import pandas as pd\n",
    "data= [[1,2,3,4,5],[11,12,13,14,15],[11,22,33,44,55]]\n",
    "ser=pd.Series(data)\n",
    "df=pd.DataFrame(data)\n",
    "print(ser)\n",
    "print(df)"
   ]
  },
  {
   "cell_type": "markdown",
   "id": "91c4fcee-7522-44bf-89fa-8f26ea5b24e2",
   "metadata": {},
   "source": [
    "we can see, the Series is a one-dimensional object with a single column, while the DataFrame is a two-dimensional object with multiple columns. The Series can only contain a single data type, while the DataFrame can contain multiple data types."
   ]
  },
  {
   "cell_type": "raw",
   "id": "390070d2-0d3e-4662-b831-355cc3f9ffb0",
   "metadata": {},
   "source": [
    "Q6. Which of the following is mutable in nature Series, DataFrame, Panel?\n",
    "Ans : In Pandas Series, DataFrame and pannel are all mutable in nature.\n"
   ]
  },
  {
   "cell_type": "markdown",
   "id": "ea34ca41-125c-4a67-a2c4-db4d975caad4",
   "metadata": {},
   "source": [
    "Q7. Create a DataFrame using multiple Series. Explain with an example."
   ]
  },
  {
   "cell_type": "code",
   "execution_count": 2,
   "id": "0ce392cd-5e4f-4fa4-a40b-17aab2991940",
   "metadata": {},
   "outputs": [
    {
     "name": "stdout",
     "output_type": "stream",
     "text": [
      "   x   y   z\n",
      "0  1  11  22\n",
      "1  2  12  33\n",
      "2  3  13  44\n",
      "3  4  14  55\n",
      "4  5  15  66\n"
     ]
    }
   ],
   "source": [
    "import pandas as pd\n",
    "sr ={\"x\": pd.Series([1,2,3,4,5]), \"y\": pd.Series([11,12,13,14,15]),\"z\":pd.Series([22,33,44,55,66])}\n",
    "Multi=pd.DataFrame(sr)\n",
    "print(Multi)"
   ]
  },
  {
   "cell_type": "markdown",
   "id": "1f27b981-cb7a-4fdb-80c0-6cdd4be8afb2",
   "metadata": {},
   "source": [
    "Q5. What are some common functions you can use to manipulate data in a Pandas DataFrame? Can\n",
    "you give an example of when you might use one of these functions?\n",
    "Ans : loc(), iloc(), head(), tail() and adding columns or  dropping columns in  dataframe using insert() and drop() funtions there are some common functions we can use manipulate data in pandas.\n",
    "Example:"
   ]
  },
  {
   "cell_type": "code",
   "execution_count": 13,
   "id": "9c23b5d7-1777-400d-8b7f-db59f8fa03fb",
   "metadata": {},
   "outputs": [],
   "source": [
    "data1={'Name' : [\"John\", \"Alex\",\"Aman\",\"josh\"],\n",
    "        'City' : [\"xyz\", \"abc\",\"pqr\",\"def\"]}"
   ]
  },
  {
   "cell_type": "code",
   "execution_count": 14,
   "id": "e5967c52-a339-46bd-a1e3-5bd0d7306a81",
   "metadata": {},
   "outputs": [],
   "source": [
    "df=pd.DataFrame(data1)"
   ]
  },
  {
   "cell_type": "code",
   "execution_count": 16,
   "id": "c13b3408-c8ce-432c-bbca-807414c55e84",
   "metadata": {},
   "outputs": [],
   "source": [
    "df[\"new_col\"]=['ghvc','jgj','kjg','pol']"
   ]
  },
  {
   "cell_type": "code",
   "execution_count": 17,
   "id": "eb09ded4-83f1-4d44-89bc-9223d7dd064b",
   "metadata": {},
   "outputs": [
    {
     "data": {
      "text/html": [
       "<div>\n",
       "<style scoped>\n",
       "    .dataframe tbody tr th:only-of-type {\n",
       "        vertical-align: middle;\n",
       "    }\n",
       "\n",
       "    .dataframe tbody tr th {\n",
       "        vertical-align: top;\n",
       "    }\n",
       "\n",
       "    .dataframe thead th {\n",
       "        text-align: right;\n",
       "    }\n",
       "</style>\n",
       "<table border=\"1\" class=\"dataframe\">\n",
       "  <thead>\n",
       "    <tr style=\"text-align: right;\">\n",
       "      <th></th>\n",
       "      <th>Name</th>\n",
       "      <th>City</th>\n",
       "      <th>new_col</th>\n",
       "    </tr>\n",
       "  </thead>\n",
       "  <tbody>\n",
       "    <tr>\n",
       "      <th>0</th>\n",
       "      <td>John</td>\n",
       "      <td>xyz</td>\n",
       "      <td>ghvc</td>\n",
       "    </tr>\n",
       "    <tr>\n",
       "      <th>1</th>\n",
       "      <td>Alex</td>\n",
       "      <td>abc</td>\n",
       "      <td>jgj</td>\n",
       "    </tr>\n",
       "    <tr>\n",
       "      <th>2</th>\n",
       "      <td>Aman</td>\n",
       "      <td>pqr</td>\n",
       "      <td>kjg</td>\n",
       "    </tr>\n",
       "    <tr>\n",
       "      <th>3</th>\n",
       "      <td>josh</td>\n",
       "      <td>def</td>\n",
       "      <td>pol</td>\n",
       "    </tr>\n",
       "  </tbody>\n",
       "</table>\n",
       "</div>"
      ],
      "text/plain": [
       "   Name City new_col\n",
       "0  John  xyz    ghvc\n",
       "1  Alex  abc     jgj\n",
       "2  Aman  pqr     kjg\n",
       "3  josh  def     pol"
      ]
     },
     "execution_count": 17,
     "metadata": {},
     "output_type": "execute_result"
    }
   ],
   "source": [
    "df"
   ]
  },
  {
   "cell_type": "code",
   "execution_count": 20,
   "id": "d6a28042-9795-4e28-b7ab-f2e0b2ab5b8e",
   "metadata": {},
   "outputs": [
    {
     "data": {
      "text/html": [
       "<div>\n",
       "<style scoped>\n",
       "    .dataframe tbody tr th:only-of-type {\n",
       "        vertical-align: middle;\n",
       "    }\n",
       "\n",
       "    .dataframe tbody tr th {\n",
       "        vertical-align: top;\n",
       "    }\n",
       "\n",
       "    .dataframe thead th {\n",
       "        text-align: right;\n",
       "    }\n",
       "</style>\n",
       "<table border=\"1\" class=\"dataframe\">\n",
       "  <thead>\n",
       "    <tr style=\"text-align: right;\">\n",
       "      <th></th>\n",
       "      <th>Name</th>\n",
       "      <th>City</th>\n",
       "    </tr>\n",
       "  </thead>\n",
       "  <tbody>\n",
       "    <tr>\n",
       "      <th>0</th>\n",
       "      <td>John</td>\n",
       "      <td>xyz</td>\n",
       "    </tr>\n",
       "    <tr>\n",
       "      <th>1</th>\n",
       "      <td>Alex</td>\n",
       "      <td>abc</td>\n",
       "    </tr>\n",
       "    <tr>\n",
       "      <th>2</th>\n",
       "      <td>Aman</td>\n",
       "      <td>pqr</td>\n",
       "    </tr>\n",
       "    <tr>\n",
       "      <th>3</th>\n",
       "      <td>josh</td>\n",
       "      <td>def</td>\n",
       "    </tr>\n",
       "  </tbody>\n",
       "</table>\n",
       "</div>"
      ],
      "text/plain": [
       "   Name City\n",
       "0  John  xyz\n",
       "1  Alex  abc\n",
       "2  Aman  pqr\n",
       "3  josh  def"
      ]
     },
     "execution_count": 20,
     "metadata": {},
     "output_type": "execute_result"
    }
   ],
   "source": [
    "df.drop(\"new_col\", axis=1)"
   ]
  },
  {
   "cell_type": "code",
   "execution_count": null,
   "id": "75ed9d5e-ee4c-4774-8072-54e7ad4058cd",
   "metadata": {},
   "outputs": [],
   "source": []
  }
 ],
 "metadata": {
  "kernelspec": {
   "display_name": "Python 3 (ipykernel)",
   "language": "python",
   "name": "python3"
  },
  "language_info": {
   "codemirror_mode": {
    "name": "ipython",
    "version": 3
   },
   "file_extension": ".py",
   "mimetype": "text/x-python",
   "name": "python",
   "nbconvert_exporter": "python",
   "pygments_lexer": "ipython3",
   "version": "3.10.8"
  }
 },
 "nbformat": 4,
 "nbformat_minor": 5
}
